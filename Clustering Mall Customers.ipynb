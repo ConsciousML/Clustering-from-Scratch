{
 "cells": [
  {
   "cell_type": "markdown",
   "metadata": {},
   "source": [
    "# Clustering Methods\n",
    "During this experiment, we will implement clustering methods from scratch using Pytorch.<br>\n",
    "The [Mall Customer Segmentation Data](https://www.kaggle.com/vjchoudhary7/customer-segmentation-tutorial-in-python/discussion/82190) will be used the clustering."
   ]
  },
  {
   "cell_type": "code",
   "execution_count": 252,
   "metadata": {},
   "outputs": [],
   "source": [
    "import os\n",
    "import torch\n",
    "import numpy as np\n",
    "import pandas as pd\n",
    "import matplotlib.pyplot as plt\n",
    "from sklearn.preprocessing import LabelEncoder\n",
    "from sklearn.preprocessing import StandardScaler"
   ]
  },
  {
   "cell_type": "markdown",
   "metadata": {},
   "source": [
    "### Read csv using Pandas"
   ]
  },
  {
   "cell_type": "code",
   "execution_count": 229,
   "metadata": {},
   "outputs": [],
   "source": [
    "customers = pd.read_csv(os.path.join('data', 'Mall_Customers.csv'))"
   ]
  },
  {
   "cell_type": "code",
   "execution_count": 251,
   "metadata": {},
   "outputs": [
    {
     "data": {
      "text/html": [
       "<div>\n",
       "<style scoped>\n",
       "    .dataframe tbody tr th:only-of-type {\n",
       "        vertical-align: middle;\n",
       "    }\n",
       "\n",
       "    .dataframe tbody tr th {\n",
       "        vertical-align: top;\n",
       "    }\n",
       "\n",
       "    .dataframe thead th {\n",
       "        text-align: right;\n",
       "    }\n",
       "</style>\n",
       "<table border=\"1\" class=\"dataframe\">\n",
       "  <thead>\n",
       "    <tr style=\"text-align: right;\">\n",
       "      <th></th>\n",
       "      <th>CustomerID</th>\n",
       "      <th>Gender</th>\n",
       "      <th>Age</th>\n",
       "      <th>Annual Income (k$)</th>\n",
       "      <th>Spending Score (1-100)</th>\n",
       "    </tr>\n",
       "  </thead>\n",
       "  <tbody>\n",
       "    <tr>\n",
       "      <th>0</th>\n",
       "      <td>1</td>\n",
       "      <td>1</td>\n",
       "      <td>19</td>\n",
       "      <td>15</td>\n",
       "      <td>39</td>\n",
       "    </tr>\n",
       "    <tr>\n",
       "      <th>1</th>\n",
       "      <td>2</td>\n",
       "      <td>1</td>\n",
       "      <td>21</td>\n",
       "      <td>15</td>\n",
       "      <td>81</td>\n",
       "    </tr>\n",
       "    <tr>\n",
       "      <th>2</th>\n",
       "      <td>3</td>\n",
       "      <td>0</td>\n",
       "      <td>20</td>\n",
       "      <td>16</td>\n",
       "      <td>6</td>\n",
       "    </tr>\n",
       "    <tr>\n",
       "      <th>3</th>\n",
       "      <td>4</td>\n",
       "      <td>0</td>\n",
       "      <td>23</td>\n",
       "      <td>16</td>\n",
       "      <td>77</td>\n",
       "    </tr>\n",
       "    <tr>\n",
       "      <th>4</th>\n",
       "      <td>5</td>\n",
       "      <td>0</td>\n",
       "      <td>31</td>\n",
       "      <td>17</td>\n",
       "      <td>40</td>\n",
       "    </tr>\n",
       "  </tbody>\n",
       "</table>\n",
       "</div>"
      ],
      "text/plain": [
       "   CustomerID  Gender  Age  Annual Income (k$)  Spending Score (1-100)\n",
       "0           1       1   19                  15                      39\n",
       "1           2       1   21                  15                      81\n",
       "2           3       0   20                  16                       6\n",
       "3           4       0   23                  16                      77\n",
       "4           5       0   31                  17                      40"
      ]
     },
     "execution_count": 251,
     "metadata": {},
     "output_type": "execute_result"
    }
   ],
   "source": [
    "customers.head(5)"
   ]
  },
  {
   "cell_type": "markdown",
   "metadata": {},
   "source": [
    "### Transform string to categorical"
   ]
  },
  {
   "cell_type": "code",
   "execution_count": 230,
   "metadata": {},
   "outputs": [],
   "source": [
    "le = LabelEncoder()\n",
    "customers['Gender'] = le.fit_transform(customers['Gender'])"
   ]
  },
  {
   "cell_type": "code",
   "execution_count": 231,
   "metadata": {},
   "outputs": [
    {
     "name": "stdout",
     "output_type": "stream",
     "text": [
      "Female : 0\n",
      "Male : 1\n"
     ]
    }
   ],
   "source": [
    "for cl, lbl in zip(le.classes_, le.transform(le.classes_)):\n",
    "    print(cl, ':', lbl)"
   ]
  },
  {
   "cell_type": "code",
   "execution_count": 232,
   "metadata": {},
   "outputs": [],
   "source": [
    "# Convert to Pytorch tensor\n",
    "X = torch.from_numpy(customers.values).float()"
   ]
  },
  {
   "cell_type": "markdown",
   "metadata": {},
   "source": [
    "### Implementation of Principal Component Analysis\n",
    "In this section, we will use PCA to reduce the number of feature to two, in order to visualize the data in 2D."
   ]
  },
  {
   "cell_type": "code",
   "execution_count": 233,
   "metadata": {},
   "outputs": [],
   "source": [
    "# Covariance function\n",
    "# cov(X) = (X - E[X])T (X - E[X])\n",
    "def cov(A):\n",
    "    A -= A.mean(dim=0, keepdim=True)\n",
    "    fact = 1.0 / (A.shape[0] - 1)\n",
    "    cov = fact * A.T.mm(A)\n",
    "    return cov\n",
    "\n",
    "# PCA function\n",
    "def pca(A, target_dim=2):\n",
    "    cov_a = cov(A)\n",
    "    \n",
    "    # Get the left singular vector of the covariance\n",
    "    _, _, V = torch.svd(cov_a)\n",
    "\n",
    "    # Get the first kth singular vector of the covariance\n",
    "    transform_mat = V[:, :target_dim]\n",
    "\n",
    "    # Multiply the data by the transform matrix to get the reduced data\n",
    "    A_reduce = A.mm(transform_mat)\n",
    "    return A_reduce, transform_mat"
   ]
  },
  {
   "cell_type": "code",
   "execution_count": 234,
   "metadata": {},
   "outputs": [],
   "source": [
    "X_pca = pca(X)[0]"
   ]
  },
  {
   "cell_type": "code",
   "execution_count": 235,
   "metadata": {},
   "outputs": [
    {
     "data": {
      "text/plain": [
       "<matplotlib.collections.PathCollection at 0x1dd1b56b5c8>"
      ]
     },
     "execution_count": 235,
     "metadata": {},
     "output_type": "execute_result"
    },
    {
     "data": {
      "image/png": "[encoded data removed]",
      "text/plain": [
       "<Figure size 432x288 with 1 Axes>"
      ]
     },
     "metadata": {
      "needs_background": "light"
     },
     "output_type": "display_data"
    }
   ],
   "source": [
    "plt.scatter(X_pca[:, 0], X_pca[:, 1])"
   ]
  },
  {
   "cell_type": "markdown",
   "metadata": {},
   "source": [
    "Our goal is to separate the data into groups where the samples in each group are similar."
   ]
  },
  {
   "cell_type": "markdown",
   "metadata": {},
   "source": [
    "### Standardize the data\n",
    "The K-means method is a distance based approach for clustering.<br>\n",
    "It is mandatory to standardize the data to prevent the features with higher values to contribute more than the others."
   ]
  },
  {
   "cell_type": "code",
   "execution_count": 247,
   "metadata": {},
   "outputs": [],
   "source": [
    "X_s = StandardScaler().fit_transform(X_pca)\n",
    "X_s = torch.from_numpy(X_s)"
   ]
  },
  {
   "cell_type": "markdown",
   "metadata": {},
   "source": [
    "### K-Means Clustering\n",
    "K-means algorithm is an iterative approach that tries to partition a dataset into $K$ predefined clusters where each data point belongs to only one cluster.\n",
    "            \n",
    "This algorithm works that way:\n",
    "- specify number of clusters $K$\n",
    "- randomly initialize one centroid in space for each cluster\n",
    "- for each point, compute the euclidean distance between the point and each centroid and assign the point to the closest centroid\n",
    "- change the centroid value based on the points present in each cluster and repeat the previous step until the centroid does not change anymore\n",
    "\n",
    "The approach, K-means follows to solve this problem is called Expectation-Maximization. The E-step assign each point to a cluster, and the M-step refines the value of centroid based on the points inside each cluster.\n",
    "\n",
    "More formally, the objective function to minimize is as follows:<br>\n",
    "$$\n",
    "    J = \\sum_{i=1}^{m} \\sum_{k=1}^{K} \\mathbb{I}(z_i = k)||x_i - \\mu_k||_2^2\n",
    "$$<br>\n",
    "where $z_i$ is the cluster assigned to $x_i$ and $\\mu_k$ is the mean of the cluster $k$.\n",
    "\n",
    "The E-step is defined as:<br>\n",
    "$$\n",
    "    z_i^{*} = \\text{argmin}_{k} ||x_i - \\mu_k||_2^2\n",
    "$$<br>\n",
    "\n",
    "And the M-step is defined as:<br>\n",
    "$$\n",
    "    \\mu_k = \\frac{1}{\\sum_{i=1}^m \\mathbb{I}(z_i = k)} \\sum_{i=1}^m  x_i\\mathbb{I}(z_i = k)\n",
    "$$<br>\n",
    "\n",
    "In practice, we should run multiple K-means with different initialization of the centroids and keep the parameters that min\n",
    "Since K-means is a distance based algorithm, is it mandatory to standardize the data. "
   ]
  },
  {
   "cell_type": "code",
   "execution_count": 248,
   "metadata": {},
   "outputs": [],
   "source": [
    "class KMeansClustering():\n",
    "    def __init__(self, n_clusters=5):\n",
    "        # Number of clusters\n",
    "        self.n_clusters = n_clusters\n",
    "        self.centroids = None\n",
    "        \n",
    "    \n",
    "    def fit_transform(self, X, n_iter=20):\n",
    "        size = X.shape[0]\n",
    "        # Find min and max values to generate a random centroid in this range\n",
    "        xmax = X.max(dim=0)[0].unsqueeze(1)\n",
    "        xmin = X.min(dim=0)[0].unsqueeze(1)\n",
    "        \n",
    "        dists = torch.zeros((size, self.n_clusters))\n",
    "        best_loss = 1e10\n",
    "        pred = None\n",
    "        # Repeat n number of time`\n",
    "        for _ in range(n_iter):\n",
    "            # Initialize n centroids\n",
    "            centroids = (xmin - xmax) * torch.rand((X.shape[1], self.n_clusters)) + xmax\n",
    "            old_loss = -1\n",
    "            while 1:\n",
    "                # E-step: assign each point to a cluster\n",
    "                for i in range(self.n_clusters):\n",
    "                    ctr = centroids[:, i].unsqueeze(1)\n",
    "                    dists[:, i] = (X - ctr.T).pow(2).sum(dim=1).sqrt()\n",
    "                dists_min, labels = dists.min(dim=1)\n",
    "                \n",
    "                # M-step: re-compute the centroids based on the new labeled data\n",
    "                for i in range(self.n_clusters):\n",
    "                    idx = torch.where(labels == i)[0]\n",
    "                    if len(idx) == 0:\n",
    "                        continue\n",
    "                    centroids[:, i] = X[idx].mean(dim=0)\n",
    "                    \n",
    "                # Loss is the sum of the distance of the points respectively to their centroid\n",
    "                new_loss = dists_min.sum()\n",
    "                if old_loss == new_loss:\n",
    "                    break\n",
    "                old_loss = new_loss\n",
    "            if new_loss < best_loss:\n",
    "                best_loss = new_loss\n",
    "                pred = labels\n",
    "        # Return the best prediction based on the objective function\n",
    "        return pred"
   ]
  },
  {
   "cell_type": "code",
   "execution_count": 249,
   "metadata": {},
   "outputs": [],
   "source": [
    "kms = KMeansClustering(n_clusters=5)\n",
    "pred = kms.fit_transform(X_s)"
   ]
  },
  {
   "cell_type": "code",
   "execution_count": 250,
   "metadata": {},
   "outputs": [
    {
     "data": {
      "text/plain": [
       "<matplotlib.collections.PathCollection at 0x1dd1ac11fc8>"
      ]
     },
     "execution_count": 250,
     "metadata": {},
     "output_type": "execute_result"
    },
    {
     "data": {
      "image/png": "[encoded data removed]",
      "text/plain": [
       "<Figure size 432x288 with 1 Axes>"
      ]
     },
     "metadata": {
      "needs_background": "light"
     },
     "output_type": "display_data"
    }
   ],
   "source": [
    "plt.scatter(X_pca[:, 0], X_pca[:, 1], c=pred)"
   ]
  }
 ],
 "metadata": {
  "kernelspec": {
   "display_name": "Python 3",
   "language": "python",
   "name": "python3"
  },
  "language_info": {
   "codemirror_mode": {
    "name": "ipython",
    "version": 3
   },
   "file_extension": ".py",
   "mimetype": "text/x-python",
   "name": "python",
   "nbconvert_exporter": "python",
   "pygments_lexer": "ipython3",
   "version": "3.7.7"
  }
 },
 "nbformat": 4,
 "nbformat_minor": 4
}
