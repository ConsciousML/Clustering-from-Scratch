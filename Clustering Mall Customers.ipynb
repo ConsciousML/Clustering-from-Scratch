{
 "cells": [
  {
   "cell_type": "markdown",
   "metadata": {},
   "source": [
    "# Clustering Methods\n",
    "During this experiment, we will implement clustering methods from scratch using Pytorch.<br>\n",
    "The [Mall Customer Segmentation Data](https://www.kaggle.com/vjchoudhary7/customer-segmentation-tutorial-in-python/discussion/82190) will be used the clustering."
   ]
  },
  {
   "cell_type": "code",
   "execution_count": 17,
   "metadata": {},
   "outputs": [],
   "source": [
    "import os\n",
    "import math\n",
    "import torch\n",
    "import numpy as np\n",
    "import pandas as pd\n",
    "import matplotlib.pyplot as plt\n",
    "from sklearn.preprocessing import LabelEncoder\n",
    "from sklearn.preprocessing import StandardScaler"
   ]
  },
  {
   "cell_type": "markdown",
   "metadata": {},
   "source": [
    "### Read csv using Pandas"
   ]
  },
  {
   "cell_type": "code",
   "execution_count": 3,
   "metadata": {},
   "outputs": [],
   "source": [
    "customers = pd.read_csv(os.path.join('data', 'Mall_Customers.csv'))"
   ]
  },
  {
   "cell_type": "code",
   "execution_count": 4,
   "metadata": {},
   "outputs": [
    {
     "data": {
      "text/html": [
       "<div>\n",
       "<style scoped>\n",
       "    .dataframe tbody tr th:only-of-type {\n",
       "        vertical-align: middle;\n",
       "    }\n",
       "\n",
       "    .dataframe tbody tr th {\n",
       "        vertical-align: top;\n",
       "    }\n",
       "\n",
       "    .dataframe thead th {\n",
       "        text-align: right;\n",
       "    }\n",
       "</style>\n",
       "<table border=\"1\" class=\"dataframe\">\n",
       "  <thead>\n",
       "    <tr style=\"text-align: right;\">\n",
       "      <th></th>\n",
       "      <th>CustomerID</th>\n",
       "      <th>Gender</th>\n",
       "      <th>Age</th>\n",
       "      <th>Annual Income (k$)</th>\n",
       "      <th>Spending Score (1-100)</th>\n",
       "    </tr>\n",
       "  </thead>\n",
       "  <tbody>\n",
       "    <tr>\n",
       "      <th>0</th>\n",
       "      <td>1</td>\n",
       "      <td>Male</td>\n",
       "      <td>19</td>\n",
       "      <td>15</td>\n",
       "      <td>39</td>\n",
       "    </tr>\n",
       "    <tr>\n",
       "      <th>1</th>\n",
       "      <td>2</td>\n",
       "      <td>Male</td>\n",
       "      <td>21</td>\n",
       "      <td>15</td>\n",
       "      <td>81</td>\n",
       "    </tr>\n",
       "    <tr>\n",
       "      <th>2</th>\n",
       "      <td>3</td>\n",
       "      <td>Female</td>\n",
       "      <td>20</td>\n",
       "      <td>16</td>\n",
       "      <td>6</td>\n",
       "    </tr>\n",
       "    <tr>\n",
       "      <th>3</th>\n",
       "      <td>4</td>\n",
       "      <td>Female</td>\n",
       "      <td>23</td>\n",
       "      <td>16</td>\n",
       "      <td>77</td>\n",
       "    </tr>\n",
       "    <tr>\n",
       "      <th>4</th>\n",
       "      <td>5</td>\n",
       "      <td>Female</td>\n",
       "      <td>31</td>\n",
       "      <td>17</td>\n",
       "      <td>40</td>\n",
       "    </tr>\n",
       "  </tbody>\n",
       "</table>\n",
       "</div>"
      ],
      "text/plain": [
       "   CustomerID  Gender  Age  Annual Income (k$)  Spending Score (1-100)\n",
       "0           1    Male   19                  15                      39\n",
       "1           2    Male   21                  15                      81\n",
       "2           3  Female   20                  16                       6\n",
       "3           4  Female   23                  16                      77\n",
       "4           5  Female   31                  17                      40"
      ]
     },
     "execution_count": 4,
     "metadata": {},
     "output_type": "execute_result"
    }
   ],
   "source": [
    "customers.head(5)"
   ]
  },
  {
   "cell_type": "markdown",
   "metadata": {},
   "source": [
    "### Transform string to categorical"
   ]
  },
  {
   "cell_type": "code",
   "execution_count": 5,
   "metadata": {},
   "outputs": [],
   "source": [
    "le = LabelEncoder()\n",
    "customers['Gender'] = le.fit_transform(customers['Gender'])"
   ]
  },
  {
   "cell_type": "code",
   "execution_count": 6,
   "metadata": {},
   "outputs": [
    {
     "name": "stdout",
     "output_type": "stream",
     "text": [
      "Female : 0\n",
      "Male : 1\n"
     ]
    }
   ],
   "source": [
    "for cl, lbl in zip(le.classes_, le.transform(le.classes_)):\n",
    "    print(cl, ':', lbl)"
   ]
  },
  {
   "cell_type": "code",
   "execution_count": 7,
   "metadata": {},
   "outputs": [],
   "source": [
    "# Convert to Pytorch tensor\n",
    "X = torch.from_numpy(customers.values).float()"
   ]
  },
  {
   "cell_type": "markdown",
   "metadata": {},
   "source": [
    "### Implementation of Principal Component Analysis\n",
    "In this section, we will use PCA to reduce the number of feature to two, in order to visualize the data in 2D."
   ]
  },
  {
   "cell_type": "code",
   "execution_count": 8,
   "metadata": {},
   "outputs": [],
   "source": [
    "# Covariance function\n",
    "# cov(X) = (X - E[X])T (X - E[X])\n",
    "def cov(A):\n",
    "    A -= A.mean(dim=0, keepdim=True)\n",
    "    fact = 1.0 / (A.shape[0] - 1)\n",
    "    cov = fact * A.T.mm(A)\n",
    "    return cov\n",
    "\n",
    "# PCA function\n",
    "def pca(A, target_dim=2):\n",
    "    cov_a = cov(A)\n",
    "    \n",
    "    # Get the right singular vector of the covariance\n",
    "    _, _, V = torch.svd(cov_a)\n",
    "\n",
    "    # Get the first kth singular vector of the covariance\n",
    "    transform_mat = V[:, :target_dim]\n",
    "\n",
    "    # Multiply the data by the transform matrix to get the reduced data\n",
    "    A_reduce = A.mm(transform_mat)\n",
    "    return A_reduce, transform_mat"
   ]
  },
  {
   "cell_type": "code",
   "execution_count": 9,
   "metadata": {},
   "outputs": [],
   "source": [
    "X_pca = pca(X)[0]"
   ]
  },
  {
   "cell_type": "code",
   "execution_count": 10,
   "metadata": {},
   "outputs": [
    {
     "data": {
      "text/plain": [
       "<matplotlib.collections.PathCollection at 0x122b6537c88>"
      ]
     },
     "execution_count": 10,
     "metadata": {},
     "output_type": "execute_result"
    },
    {
     "data": {
      "image/png": "[encoded data removed]",
      "text/plain": [
       "<Figure size 432x288 with 1 Axes>"
      ]
     },
     "metadata": {
      "needs_background": "light"
     },
     "output_type": "display_data"
    }
   ],
   "source": [
    "plt.scatter(X_pca[:, 0], X_pca[:, 1])"
   ]
  },
  {
   "cell_type": "markdown",
   "metadata": {},
   "source": [
    "Our goal is to separate the data into groups where the samples in each group are similar."
   ]
  },
  {
   "cell_type": "markdown",
   "metadata": {},
   "source": [
    "### Standardize the data\n",
    "The K-means method is a distance based approach for clustering.<br>\n",
    "It is mandatory to standardize the data to prevent the features with higher values to contribute more than the others."
   ]
  },
  {
   "cell_type": "code",
   "execution_count": 133,
   "metadata": {},
   "outputs": [],
   "source": [
    "X_s = StandardScaler().fit_transform(X_pca)\n",
    "X_s = torch.from_numpy(X_s).float()"
   ]
  },
  {
   "cell_type": "markdown",
   "metadata": {},
   "source": [
    "### K-Means Clustering\n",
    "K-means algorithm is an iterative approach that tries to partition a dataset into $K$ predefined clusters where each data point belongs to only one cluster.\n",
    "            \n",
    "This algorithm works that way:\n",
    "- specify number of clusters $K$\n",
    "- randomly initialize one centroid in space for each cluster\n",
    "- for each point, compute the euclidean distance between the point and each centroid and assign the point to the closest centroid\n",
    "- change the centroid value based on the points present in each cluster and repeat the previous step until the centroid does not change anymore\n",
    "\n",
    "The approach, K-means follows to solve this problem is called Expectation-Maximization. The E-step assign each point to a cluster, and the M-step refines the value of centroid based on the points inside each cluster.\n",
    "\n",
    "More formally, the objective function to minimize is as follows:<br>\n",
    "$$\n",
    "    J = \\sum_{i=1}^{m} \\sum_{k=1}^{K} \\mathbb{I}(z_i = k)||x_i - \\mu_k||_2^2\n",
    "$$<br>\n",
    "where $z_i$ is the cluster assigned to $x_i$ and $\\mu_k$ is the mean of the cluster $k$.\n",
    "\n",
    "The E-step is defined as:<br>\n",
    "$$\n",
    "    z_i^{*} = \\text{argmin}_{k} ||x_i - \\mu_k||_2^2\n",
    "$$<br>\n",
    "\n",
    "And the M-step is defined as:<br>\n",
    "$$\n",
    "    \\mu_k = \\frac{1}{\\sum_{i=1}^m \\mathbb{I}(z_i = k)} \\sum_{i=1}^m  x_i\\mathbb{I}(z_i = k)\n",
    "$$<br>\n",
    "\n",
    "In practice, we should run multiple K-means with different initialization of the centroids and keep the parameters that min\n",
    "Since K-means is a distance based algorithm, is it mandatory to standardize the data. "
   ]
  },
  {
   "cell_type": "code",
   "execution_count": 12,
   "metadata": {},
   "outputs": [],
   "source": [
    "class KMeansClustering():\n",
    "    def __init__(self, n_clusters=5):\n",
    "        # Number of clusters\n",
    "        self.n_clusters = n_clusters\n",
    "        self.centroids = None\n",
    "        \n",
    "    \n",
    "    def fit_transform(self, X, n_iter=20):\n",
    "        size = X.shape[0]\n",
    "        # Find min and max values to generate a random centroid in this range\n",
    "        xmax = X.max(dim=0)[0].unsqueeze(1)\n",
    "        xmin = X.min(dim=0)[0].unsqueeze(1)\n",
    "        \n",
    "        dists = torch.zeros((size, self.n_clusters))\n",
    "        best_loss = 1e10\n",
    "        pred = NoneX[torch.randint(0, n_samples, (1,))]\n",
    "        # Repeat n number of time`\n",
    "        for _ in range(n_iter):\n",
    "            # Initialize n centroids\n",
    "            centroids = (xmin - xmax) * torch.rand((X.shape[1], self.n_clusters)) + xmax\n",
    "            old_loss = -1\n",
    "            while 1:\n",
    "                # E-step: assign each point to a cluster\n",
    "                for i in range(self.n_clusters):\n",
    "                    ctr = centroids[:, i].unsqueeze(1)\n",
    "                    dists[:, i] = (X - ctr.T).pow(2).sum(dim=1).sqrt()\n",
    "                dists_min, labels = dists.min(dim=1)\n",
    "                \n",
    "                # M-step: re-compute the centroids based on the new labeled data\n",
    "                for i in range(self.n_clusters):\n",
    "                    idx = torch.where(labels == i)[0]\n",
    "                    if len(idx) == 0:\n",
    "                        continue\n",
    "                    centroids[:, i] = X[idx].mean(dim=0)\n",
    "                    \n",
    "                # Loss is the sum of the distance of the points respectively to their centroid\n",
    "                new_loss = dists_min.sum()\n",
    "                if old_loss == new_loss:\n",
    "                    break\n",
    "                old_loss = new_loss\n",
    "            if new_loss < best_loss:\n",
    "                best_loss = new_loss\n",
    "                pred = labels\n",
    "        # Return the best prediction based on the objective function\n",
    "        return pred"
   ]
  },
  {
   "cell_type": "code",
   "execution_count": 13,
   "metadata": {},
   "outputs": [],
   "source": [
    "kms = KMeansClustering(n_clusters=5)\n",
    "pred = kms.fit_transform(X_s)"
   ]
  },
  {
   "cell_type": "code",
   "execution_count": 14,
   "metadata": {},
   "outputs": [
    {
     "data": {
      "text/plain": [
       "<matplotlib.collections.PathCollection at 0x122b65377c8>"
      ]
     },
     "execution_count": 14,
     "metadata": {},
     "output_type": "execute_result"
    },
    {
     "data": {
      "image/png": "[encoded data removed]",
      "text/plain": [
       "<Figure size 432x288 with 1 Axes>"
      ]
     },
     "metadata": {
      "needs_background": "light"
     },
     "output_type": "display_data"
    }
   ],
   "source": [
    "plt.scatter(X_pca[:, 0], X_pca[:, 1], c=pred)"
   ]
  },
  {
   "cell_type": "markdown",
   "metadata": {},
   "source": [
    "The result is pretty satisfying. Each cluster is well separated from each other.<br>\n",
    "Let's see if we can get the same result using a Gaussian Mixture model."
   ]
  },
  {
   "cell_type": "markdown",
   "metadata": {},
   "source": [
    "### Gaussian Mixture Model\n",
    "In order to understand how we train a Gaussian Mixture model, we must explain the expectation-maximization algorithm (EM) first.<br>\n",
    "The EM algorithm is a general technique for finding maximum likelihood solutions for probabilistic models having latent variables. EM is an iterative algorithm that starts from an initial estimate of the parameters of a probabilistic model $\\boldsymbol{\\theta}$ and then proceeds to iteratively update $\\boldsymbol{\\theta}$ until convergence. This algorithm consists to iteratively apply an expectation step and a maximization step.\n",
    "            \n",
    "Let's consider the EM algorithm for a multivariate Gaussian Mixture model with $K$ mixture components, observed variables $\\boldsymbol{X}$ and latent variables $\\boldsymbol{Z}$ such as:<br>\n",
    "\n",
    "$$\n",
    "\\large\n",
    "\\begin{aligned}\n",
    "    P(\\boldsymbol{x}_i | \\boldsymbol{\\theta}) &= \\sum_{k=1}^{K} \\pi_k P(\\boldsymbol{x}_i | \\boldsymbol{z}_i, \\boldsymbol{\\theta}_k)\\\\\n",
    "    &= \\sum_{k=1}^{K} P(\\boldsymbol{z}_i = k) \\mathcal{N}(\\boldsymbol{x}_i; \\boldsymbol{\\mu}_k, \\boldsymbol{\\Sigma}_k)\n",
    "\\end{aligned}\n",
    "$$<br>\n",
    "where each component of the mixture model is the normal distribution.\n",
    "Let's see why the MLE of a gaussian mixture model is hard to compute. The likelihood of a gaussian mixture distribution is:<br>\n",
    "$$\n",
    "\\large\n",
    "    L(\\boldsymbol{\\theta} | \\boldsymbol{X}) = \\prod_{i=1}^N\\sum_{k=1}^{K} \\pi_k \\mathcal{N}(\\boldsymbol{x}_i; \\boldsymbol{\\mu}_k, \\boldsymbol{\\Sigma}_k)\n",
    "$$<br>\n",
    "\n",
    "This the log-likelihood is as follows:<br>\n",
    "$$\n",
    "\\large\n",
    "    \\mathcal{L}(\\boldsymbol{\\theta} | \\boldsymbol{X}) = \\sum_{i=1}^N \\log\\left(\\sum_{k=1}^{K} \\pi_k \\mathcal{N}(\\boldsymbol{x}_i; \\boldsymbol{\\mu}_k, \\boldsymbol{\\Sigma}_k)\\right)\n",
    "$$<br>\n",
    "\n",
    "Because of the sum inside the $\\log$, we cannot estimate $\\boldsymbol{\\mu}_k$ and $\\boldsymbol{\\sigma^2}$ without knowing $\\boldsymbol{Z}$. That is why we would use EM in this kind of situation.\n",
    "\n",
    "The EM algorithm has two steps, the expectation step known as E-step, assigns to each data point the probability that they belong to each\n",
    "components of the mixture model. Whereas the maximization step, known as M-step, re-evaluate the parameters of each mixture component based on the estimated values generated in the E-step.\n",
    "\n",
    "More formally, during the E-step, we calculate the likelihood of each data point using the estimated parameters:<br>\n",
    "$$\n",
    "\\large\n",
    "    f(\\boldsymbol{x_i}|\\mu_k, \\boldsymbol{\\Sigma}_k) = \\frac{1}{\\sqrt{(2\\pi)^m|\\boldsymbol{\\Sigma}_k|}} \\exp\\left(-\\frac{(\\boldsymbol{x}_i - \\boldsymbol{\\mu}_k)^\\top \\boldsymbol{\\Sigma}_k^{-1}(\\boldsymbol{x}_i - \\boldsymbol{\\mu}_k)}{2}\\right)\n",
    "$$<br>\n",
    "where $m$ is the number of features in the input data.\n",
    "\n",
    "Then we compute the probability that $\\boldsymbol{x}_i$ came from the $k^{th}$ gaussian distribution:<br>\n",
    "$$\n",
    "\\large\n",
    "    p_{ik} = \\frac{\\pi_k f(\\boldsymbol{x_i}|\\mu_k, \\boldsymbol{\\Sigma}_k)}{\\sum_{j=1}^{K} \\pi_j f(\\boldsymbol{x_i}|\\mu_j, \\boldsymbol{\\Sigma}_j)}\n",
    "$$<br>\n",
    "\n",
    "For the M-step, we update the parameters of the mixture as follows:<br>\n",
    "$$\n",
    "\\large\n",
    "\\begin{aligned}\n",
    "    \\pi_k &= \\frac{1}{N}\\sum_{i=1}^{N} p_{ik}\\\\\n",
    "    \\boldsymbol{\\mu}_k &= \\frac{1}{N} \\sum_{i=1}^{N} p_{ik} \\boldsymbol{x_i}\\\\\n",
    "    \\boldsymbol{\\Sigma}_k &= \\frac{1}{\\sum_{i=1}^{N} p_{ik}} \\sum_{i=1}^{N} p_{ik} (\\boldsymbol{x}_i - \\boldsymbol{\\mu}_k) (\\boldsymbol{x}_i - \\boldsymbol{\\mu}_k)^\\top\n",
    "\\end{aligned}\n",
    "$$"
   ]
  },
  {
   "cell_type": "code",
   "execution_count": 547,
   "metadata": {},
   "outputs": [],
   "source": [
    "class GaussianMixture():\n",
    "    def __init__(self, n_components, n_iter):\n",
    "        # Number of gaussian distribution in the mixture\n",
    "        self.n_components = n_components\n",
    "        # Number of E-step, M-step iterations\n",
    "        self.n_iter = n_iter\n",
    "        \n",
    "    def gaussian_likelihood(self, X, mu, sigma):\n",
    "        two_pi = torch.tensor(2 * math.pi, dtype=torch.float64)\n",
    "        # Factor before the exp() expression\n",
    "        fact = 1 / torch.sqrt(torch.pow(two_pi, X.shape[0]) * torch.det(sigma))\n",
    "        X_minus_mu = X - mu.T\n",
    "        \n",
    "        sigma_inv = torch.inverse(sigma)\n",
    "        return fact * torch.exp(-0.5 * X_minus_mu.mm(sigma_inv).mm(X_minus_mu.T))\n",
    "        \n",
    "    def fit_predict(self, X):\n",
    "        n_samples = X.shape[0]\n",
    "        n_features = X.shape[1]\n",
    "        \n",
    "        # Parameter initialization: mean & covariance and class priors\n",
    "        sigma_params = torch.zeros((self.n_components, n_features, n_features), dtype=torch.float64)\n",
    "        mu_params = torch.zeros((self.n_components, n_features, 1), dtype=torch.float64)\n",
    "        # Initialize class prior uniformly\n",
    "        class_priors = torch.zeros((self.n_components, 1), dtype=torch.float64).fill_(1 / self.n_components)\n",
    "        \n",
    "        # Set the covariance parameter of each components to the covariance of the data\n",
    "        X_m = X - X.mean()\n",
    "        X_cov = X_m.T.mm(X_m)\n",
    "        for j in range(self.n_components):\n",
    "            sigma_params[j] = X_cov.clone()\n",
    "            # Select a random sample as the mean of each gaussian\n",
    "            mu_params[j] = X[torch.randint(0, n_samples, (1,))].T\n",
    "        \n",
    "        # Tensor to hold the likelihoods for each data and each gaussian\n",
    "        likelihoods = torch.zeros((n_samples, self.n_components), dtype=torch.float64)\n",
    "        \n",
    "        # Do n times the e-step and m-step\n",
    "        for _ in range(self.n_iter):\n",
    "            # E-step\n",
    "            for j in range(self.n_components):\n",
    "                for i in range(n_samples):\n",
    "                    # For each sample and each gaussian, compute the likelihood that\n",
    "                    # the sample comes from this gaussian\n",
    "                    likelihoods[i][j] = self.gaussian_likelihood(X[i], mu_params[j], sigma_params[j])\n",
    "                    \n",
    "            # Tensor to hold the probabilities that each data belongs to each gaussian\n",
    "            probs = torch.zeros_like(likelihoods)\n",
    "            for j in range(self.n_components):\n",
    "                for i in range(n_samples):\n",
    "                    prob_num = class_priors[j] * likelihoods[i][j]\n",
    "                    prob_den = (class_priors * likelihoods[i, :].unsqueeze(1)).sum()\n",
    "                    probs[i][j] = prob_num / prob_den\n",
    "            \n",
    "            # M-step\n",
    "            for j in range(self.n_components):\n",
    "                probs_j = probs[:, j]\n",
    "                class_priors[j] = probs_j.sum() / n_samples\n",
    "                \n",
    "                probs_j_uns = probs_j.unsqueeze(1)\n",
    "                \n",
    "                # CHECK HERE: / by n_samples ? not probs ?\n",
    "                mu_params[j] = (probs_j_uns * X).sum(dim=0).unsqueeze(1)\n",
    "                mu_params[j] /= n_samples\n",
    "                \n",
    "                sigma = sigma_params[j]\n",
    "                X_minus_mu = X - mu_params[j].T\n",
    "                sigma.fill_(0.)\n",
    "                for i in range(n_samples):\n",
    "                    row = X_minus_mu[i, :].unsqueeze(1)\n",
    "                    sigma += probs_j[i] * row.mm(row.T)\n",
    "                # CHECK HERE: / by probs ? not n_samples ?\n",
    "                sigma /= probs_j.sum()\n",
    "        return probs.argmax(dim=1)"
   ]
  },
  {
   "cell_type": "code",
   "execution_count": 548,
   "metadata": {},
   "outputs": [
    {
     "ename": "RuntimeError",
     "evalue": "inverse_cpu: U(1,1) is zero, singular U.",
     "output_type": "error",
     "traceback": [
      "\u001b[1;31m---------------------------------------------------------------------------\u001b[0m",
      "\u001b[1;31mRuntimeError\u001b[0m                              Traceback (most recent call last)",
      "\u001b[1;32m<ipython-input-548-d084b68f6ef0>\u001b[0m in \u001b[0;36m<module>\u001b[1;34m\u001b[0m\n\u001b[0;32m      1\u001b[0m \u001b[0mgmm\u001b[0m \u001b[1;33m=\u001b[0m \u001b[0mGaussianMixture\u001b[0m\u001b[1;33m(\u001b[0m\u001b[0mn_components\u001b[0m\u001b[1;33m=\u001b[0m\u001b[1;36m5\u001b[0m\u001b[1;33m,\u001b[0m \u001b[0mn_iter\u001b[0m\u001b[1;33m=\u001b[0m\u001b[1;36m10\u001b[0m\u001b[1;33m)\u001b[0m\u001b[1;33m\u001b[0m\u001b[1;33m\u001b[0m\u001b[0m\n\u001b[0;32m      2\u001b[0m \u001b[0mX_s\u001b[0m \u001b[1;33m=\u001b[0m \u001b[0mX_s\u001b[0m\u001b[1;33m.\u001b[0m\u001b[0mtype\u001b[0m\u001b[1;33m(\u001b[0m\u001b[0mtorch\u001b[0m\u001b[1;33m.\u001b[0m\u001b[0mDoubleTensor\u001b[0m\u001b[1;33m)\u001b[0m\u001b[1;33m\u001b[0m\u001b[1;33m\u001b[0m\u001b[0m\n\u001b[1;32m----> 3\u001b[1;33m \u001b[0mpred\u001b[0m \u001b[1;33m=\u001b[0m \u001b[0mgmm\u001b[0m\u001b[1;33m.\u001b[0m\u001b[0mfit_predict\u001b[0m\u001b[1;33m(\u001b[0m\u001b[0mX_s\u001b[0m\u001b[1;33m)\u001b[0m\u001b[1;33m\u001b[0m\u001b[1;33m\u001b[0m\u001b[0m\n\u001b[0m",
      "\u001b[1;32m<ipython-input-547-79998238d06b>\u001b[0m in \u001b[0;36mfit_predict\u001b[1;34m(self, X)\u001b[0m\n\u001b[0;32m     43\u001b[0m                     \u001b[1;31m# For each sample and each gaussian, compute the likelihood that\u001b[0m\u001b[1;33m\u001b[0m\u001b[1;33m\u001b[0m\u001b[1;33m\u001b[0m\u001b[0m\n\u001b[0;32m     44\u001b[0m                     \u001b[1;31m# the sample comes from this gaussian\u001b[0m\u001b[1;33m\u001b[0m\u001b[1;33m\u001b[0m\u001b[1;33m\u001b[0m\u001b[0m\n\u001b[1;32m---> 45\u001b[1;33m                     \u001b[0mlikelihoods\u001b[0m\u001b[1;33m[\u001b[0m\u001b[0mi\u001b[0m\u001b[1;33m]\u001b[0m\u001b[1;33m[\u001b[0m\u001b[0mj\u001b[0m\u001b[1;33m]\u001b[0m \u001b[1;33m=\u001b[0m \u001b[0mself\u001b[0m\u001b[1;33m.\u001b[0m\u001b[0mgaussian_likelihood\u001b[0m\u001b[1;33m(\u001b[0m\u001b[0mX\u001b[0m\u001b[1;33m[\u001b[0m\u001b[0mi\u001b[0m\u001b[1;33m]\u001b[0m\u001b[1;33m,\u001b[0m \u001b[0mmu_params\u001b[0m\u001b[1;33m[\u001b[0m\u001b[0mj\u001b[0m\u001b[1;33m]\u001b[0m\u001b[1;33m,\u001b[0m \u001b[0msigma_params\u001b[0m\u001b[1;33m[\u001b[0m\u001b[0mj\u001b[0m\u001b[1;33m]\u001b[0m\u001b[1;33m)\u001b[0m\u001b[1;33m\u001b[0m\u001b[1;33m\u001b[0m\u001b[0m\n\u001b[0m\u001b[0;32m     46\u001b[0m \u001b[1;33m\u001b[0m\u001b[0m\n\u001b[0;32m     47\u001b[0m             \u001b[1;31m# Tensor to hold the probabilities that each data belongs to each gaussian\u001b[0m\u001b[1;33m\u001b[0m\u001b[1;33m\u001b[0m\u001b[1;33m\u001b[0m\u001b[0m\n",
      "\u001b[1;32m<ipython-input-547-79998238d06b>\u001b[0m in \u001b[0;36mgaussian_likelihood\u001b[1;34m(self, X, mu, sigma)\u001b[0m\n\u001b[0;32m     12\u001b[0m         \u001b[0mX_minus_mu\u001b[0m \u001b[1;33m=\u001b[0m \u001b[0mX\u001b[0m \u001b[1;33m-\u001b[0m \u001b[0mmu\u001b[0m\u001b[1;33m.\u001b[0m\u001b[0mT\u001b[0m\u001b[1;33m\u001b[0m\u001b[1;33m\u001b[0m\u001b[0m\n\u001b[0;32m     13\u001b[0m \u001b[1;33m\u001b[0m\u001b[0m\n\u001b[1;32m---> 14\u001b[1;33m         \u001b[0msigma_inv\u001b[0m \u001b[1;33m=\u001b[0m \u001b[0mtorch\u001b[0m\u001b[1;33m.\u001b[0m\u001b[0minverse\u001b[0m\u001b[1;33m(\u001b[0m\u001b[0msigma\u001b[0m\u001b[1;33m)\u001b[0m\u001b[1;33m\u001b[0m\u001b[1;33m\u001b[0m\u001b[0m\n\u001b[0m\u001b[0;32m     15\u001b[0m         \u001b[1;32mreturn\u001b[0m \u001b[0mfact\u001b[0m \u001b[1;33m*\u001b[0m \u001b[0mtorch\u001b[0m\u001b[1;33m.\u001b[0m\u001b[0mexp\u001b[0m\u001b[1;33m(\u001b[0m\u001b[1;33m-\u001b[0m\u001b[1;36m0.5\u001b[0m \u001b[1;33m*\u001b[0m \u001b[0mX_minus_mu\u001b[0m\u001b[1;33m.\u001b[0m\u001b[0mmm\u001b[0m\u001b[1;33m(\u001b[0m\u001b[0msigma_inv\u001b[0m\u001b[1;33m)\u001b[0m\u001b[1;33m.\u001b[0m\u001b[0mmm\u001b[0m\u001b[1;33m(\u001b[0m\u001b[0mX_minus_mu\u001b[0m\u001b[1;33m.\u001b[0m\u001b[0mT\u001b[0m\u001b[1;33m)\u001b[0m\u001b[1;33m)\u001b[0m\u001b[1;33m\u001b[0m\u001b[1;33m\u001b[0m\u001b[0m\n\u001b[0;32m     16\u001b[0m \u001b[1;33m\u001b[0m\u001b[0m\n",
      "\u001b[1;31mRuntimeError\u001b[0m: inverse_cpu: U(1,1) is zero, singular U."
     ]
    }
   ],
   "source": [
    "gmm = GaussianMixture(n_components=5, n_iter=10)\n",
    "X_s = X_s.type(torch.DoubleTensor)\n",
    "pred = gmm.fit_predict(X_s)"
   ]
  },
  {
   "cell_type": "code",
   "execution_count": 546,
   "metadata": {},
   "outputs": [
    {
     "data": {
      "text/plain": [
       "<matplotlib.collections.PathCollection at 0x122bb7db208>"
      ]
     },
     "execution_count": 546,
     "metadata": {},
     "output_type": "execute_result"
    },
    {
     "data": {
      "image/png": "[encoded data removed]",
      "text/plain": [
       "<Figure size 432x288 with 1 Axes>"
      ]
     },
     "metadata": {
      "needs_background": "light"
     },
     "output_type": "display_data"
    }
   ],
   "source": [
    "plt.scatter(X_pca[:, 0], X_pca[:, 1], c=pred)"
   ]
  },
  {
   "cell_type": "code",
   "execution_count": null,
   "metadata": {},
   "outputs": [],
   "source": []
  }
 ],
 "metadata": {
  "kernelspec": {
   "display_name": "Python 3",
   "language": "python",
   "name": "python3"
  },
  "language_info": {
   "codemirror_mode": {
    "name": "ipython",
    "version": 3
   },
   "file_extension": ".py",
   "mimetype": "text/x-python",
   "name": "python",
   "nbconvert_exporter": "python",
   "pygments_lexer": "ipython3",
   "version": "3.7.7"
  }
 },
 "nbformat": 4,
 "nbformat_minor": 4
}
